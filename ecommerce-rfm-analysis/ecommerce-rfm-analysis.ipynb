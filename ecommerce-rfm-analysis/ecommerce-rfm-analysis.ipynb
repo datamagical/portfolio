{
 "cells": [
  {
   "cell_type": "code",
   "execution_count": 28,
   "id": "db09e71b-b930-4374-8dfd-44acb5292711",
   "metadata": {},
   "outputs": [],
   "source": [
    "# импорт необходимых библиотек\n",
    "import pandas as pd \n",
    "import sqlite3\n",
    "\n",
    "import matplotlib.pyplot as plt\n",
    "%matplotlib inline"
   ]
  },
  {
   "cell_type": "markdown",
   "id": "d9865920-c368-4d54-802e-94d066fb7016",
   "metadata": {},
   "source": [
    "# Проект: Анализ поведения клиентов интернет-магазина + RFM-анализ\n",
    "## Цель проекта:\n",
    "Изучить поведение клиентов интернет-магазина, сегментировать клиентов с помощью RFM-анализа и подготовить рекомендации для повышения выручки.\n",
    "\n",
    "## Основные этапы:\n",
    "Подготовка данных:\n",
    "\n",
    "Загрузка и очистка данных из базы SQLite.\n",
    "\n",
    "Проверка пропущенных значений, корректировка форматов дат.\n",
    "\n",
    "Удаление дубликатов.\n",
    "\n",
    "Проанализирована динамика заказов по месяцам.\n",
    "\n",
    "Определены ТОП-10 товарных категорий и городов по количеству заказов.\n",
    "\n",
    "## RFM-анализ клиентов:\n",
    "\n",
    "Рассчитаны показатели:\n",
    "\n",
    "Recency (давность последней покупки).\n",
    "\n",
    "Frequency (количество заказов).\n",
    "\n",
    "Monetary (суммарная выручка от клиента).\n",
    "\n",
    "Проведена сегментация клиентов:\n",
    "\n",
    "Champions — лучшие клиенты.\n",
    "\n",
    "Loyal Customers — постоянные клиенты.\n",
    "\n",
    "Potential Loyalists — потенциально лояльные клиенты.\n",
    "\n",
    "At Risk — клиенты на грани ухода.\n",
    "\n",
    "Hibernating — спящие клиенты."
   ]
  },
  {
   "cell_type": "code",
   "execution_count": null,
   "id": "1324dc6f-2c76-403f-8d72-94a5b50b433f",
   "metadata": {},
   "outputs": [],
   "source": [
    "# Соединение с БД SQLite\n",
    "conn = sqlite3.connect('olist.db')\n",
    "\n",
    "# Загрузка CSV и создание таблиц\n",
    "files = {\n",
    "    'orders': 'olist_orders_dataset.csv', # Информация о заказах.\n",
    "    'order_items': 'olist_order_items_dataset.csv', # Детали по товарам в заказах.\n",
    "    'customers': 'olist_customers_dataset.csv', #  Данные покупателей.\n",
    "    'products': 'olist_products_dataset.csv', # Информация о товарах.\n",
    "    'payments': 'olist_order_payments_dataset.csv', # Данные о платежах.\n",
    "    'reviews': 'olist_order_reviews_dataset.csv', # Отзывы покупателей.\n",
    "    'geolocation': 'olist_geolocation_dataset.csv' # Геолокационные данные.\n",
    "}\n",
    "\n",
    "for table, file in files.items():\n",
    "    df = pd.read_csv(file)\n",
    "    df.to_sql(table, conn, if_exists='replace', index=False)\n",
    "    print(f'{table} загружена в базу данных.')\n",
    "\n",
    "conn.close()"
   ]
  },
  {
   "cell_type": "markdown",
   "id": "f36817eb-9952-42a6-88ef-f3f9fe7c99e4",
   "metadata": {},
   "source": [
    "## Шаг 1: Предварительная обработка данных и исследовательский анализ"
   ]
  },
  {
   "cell_type": "code",
   "execution_count": 2,
   "id": "87cab3cb-81b5-488d-a5e3-13543c160482",
   "metadata": {},
   "outputs": [],
   "source": [
    "# Загрузка данных\n",
    "import pandas as pd\n",
    "\n",
    "orders = pd.read_csv('olist_orders_dataset.csv', parse_dates = ['order_purchase_timestamp', 'order_approved_at', \n",
    "                                                                'order_delivered_carrier_date', 'order_delivered_customer_date', \n",
    "                                                                'order_estimated_delivery_date']) # Информация о заказах.\n",
    "order_items = pd.read_csv('olist_order_items_dataset.csv', parse_dates = ['shipping_limit_date']) # Детали по товарам в заказах.\n",
    "customers = pd.read_csv('olist_customers_dataset.csv') # Данные покупателей.\n",
    "products = pd.read_csv('olist_products_dataset.csv') # Информация о товарах.\n",
    "payments = pd.read_csv('olist_order_payments_dataset.csv') # Данные о платежах.\n",
    "reviews = pd.read_csv('olist_order_reviews_dataset.csv', parse_dates=['review_creation_date', 'review_answer_timestamp']) # Отзывы покупателей.\n",
    "geolocation = pd.read_csv('olist_geolocation_dataset.csv') # Геолокационные данные."
   ]
  },
  {
   "cell_type": "code",
   "execution_count": 29,
   "id": "e2d8f4e2-d703-489b-9be5-03a2bfa4b74b",
   "metadata": {},
   "outputs": [
    {
     "data": {
      "text/plain": [
       "order_id                            0\n",
       "customer_id                         0\n",
       "order_status                        0\n",
       "order_purchase_timestamp            0\n",
       "order_approved_at                 160\n",
       "order_delivered_carrier_date     1783\n",
       "order_delivered_customer_date    2965\n",
       "order_estimated_delivery_date       0\n",
       "dtype: int64"
      ]
     },
     "execution_count": 29,
     "metadata": {},
     "output_type": "execute_result"
    }
   ],
   "source": [
    "# проверка на наличие пропусков в  данных\n",
    "orders.isnull().sum()"
   ]
  },
  {
   "cell_type": "code",
   "execution_count": 6,
   "id": "a28d0b00-5a74-4372-9fa6-2272aa1e879c",
   "metadata": {},
   "outputs": [
    {
     "data": {
      "text/plain": [
       "order_id               0\n",
       "order_item_id          0\n",
       "product_id             0\n",
       "seller_id              0\n",
       "shipping_limit_date    0\n",
       "price                  0\n",
       "freight_value          0\n",
       "dtype: int64"
      ]
     },
     "execution_count": 6,
     "metadata": {},
     "output_type": "execute_result"
    }
   ],
   "source": [
    "order_items.isnull().sum()"
   ]
  },
  {
   "cell_type": "code",
   "execution_count": 7,
   "id": "93cff044-d7d1-41f3-8f3e-64d51ccba661",
   "metadata": {},
   "outputs": [
    {
     "data": {
      "text/plain": [
       "customer_id                 0\n",
       "customer_unique_id          0\n",
       "customer_zip_code_prefix    0\n",
       "customer_city               0\n",
       "customer_state              0\n",
       "dtype: int64"
      ]
     },
     "execution_count": 7,
     "metadata": {},
     "output_type": "execute_result"
    }
   ],
   "source": [
    "customers.isnull().sum()"
   ]
  },
  {
   "cell_type": "code",
   "execution_count": 8,
   "id": "4420ddcf-3739-4af1-ada6-8b92b8078b25",
   "metadata": {},
   "outputs": [
    {
     "data": {
      "text/plain": [
       "product_id                      0\n",
       "product_category_name         610\n",
       "product_name_lenght           610\n",
       "product_description_lenght    610\n",
       "product_photos_qty            610\n",
       "product_weight_g                2\n",
       "product_length_cm               2\n",
       "product_height_cm               2\n",
       "product_width_cm                2\n",
       "dtype: int64"
      ]
     },
     "execution_count": 8,
     "metadata": {},
     "output_type": "execute_result"
    }
   ],
   "source": [
    "products.isnull().sum()"
   ]
  },
  {
   "cell_type": "code",
   "execution_count": 9,
   "id": "fef32a66-5b49-4db4-b345-b80e5eb47d41",
   "metadata": {},
   "outputs": [
    {
     "data": {
      "text/plain": [
       "order_id                0\n",
       "payment_sequential      0\n",
       "payment_type            0\n",
       "payment_installments    0\n",
       "payment_value           0\n",
       "dtype: int64"
      ]
     },
     "execution_count": 9,
     "metadata": {},
     "output_type": "execute_result"
    }
   ],
   "source": [
    "payments.isnull().sum()"
   ]
  },
  {
   "cell_type": "code",
   "execution_count": 16,
   "id": "b94ec8a9-6703-4076-abc9-828abc2c0d29",
   "metadata": {},
   "outputs": [
    {
     "data": {
      "text/plain": [
       "review_id                      0\n",
       "order_id                       0\n",
       "review_score                   0\n",
       "review_comment_title       87656\n",
       "review_comment_message     58247\n",
       "review_creation_date           0\n",
       "review_answer_timestamp        0\n",
       "dtype: int64"
      ]
     },
     "execution_count": 16,
     "metadata": {},
     "output_type": "execute_result"
    }
   ],
   "source": [
    "reviews.isnull().sum() "
   ]
  },
  {
   "cell_type": "code",
   "execution_count": 3,
   "id": "97570e97-d8fe-4798-8c05-59fa2c1f960e",
   "metadata": {},
   "outputs": [],
   "source": [
    "# функция для доступа к базе данных\n",
    "def run_query(query, db_path='olist.db'):\n",
    "    conn = sqlite3.connect(db_path) # Подключаемся к базе\n",
    "    \n",
    "    df = pd.read_sql_query(query, conn) # Выполняем запрос и забираем результат в DataFrame\n",
    "    \n",
    "    conn.close() # Закрываем соединение\n",
    "    \n",
    "    return df"
   ]
  },
  {
   "cell_type": "markdown",
   "id": "f1874da9-9efc-42e0-95d2-1f33a1b8eb3b",
   "metadata": {},
   "source": [
    "#### Определим основные показатели из данных"
   ]
  },
  {
   "cell_type": "code",
   "execution_count": 69,
   "id": "1da0f385-732b-49d3-9407-002d9f0a46f0",
   "metadata": {},
   "outputs": [
    {
     "data": {
      "text/html": [
       "<div>\n",
       "<style scoped>\n",
       "    .dataframe tbody tr th:only-of-type {\n",
       "        vertical-align: middle;\n",
       "    }\n",
       "\n",
       "    .dataframe tbody tr th {\n",
       "        vertical-align: top;\n",
       "    }\n",
       "\n",
       "    .dataframe thead th {\n",
       "        text-align: right;\n",
       "    }\n",
       "</style>\n",
       "<table border=\"1\" class=\"dataframe\">\n",
       "  <thead>\n",
       "    <tr style=\"text-align: right;\">\n",
       "      <th></th>\n",
       "      <th>avg_price</th>\n",
       "    </tr>\n",
       "  </thead>\n",
       "  <tbody>\n",
       "    <tr>\n",
       "      <th>0</th>\n",
       "      <td>137.754076</td>\n",
       "    </tr>\n",
       "  </tbody>\n",
       "</table>\n",
       "</div>"
      ],
      "text/plain": [
       "    avg_price\n",
       "0  137.754076"
      ]
     },
     "execution_count": 69,
     "metadata": {},
     "output_type": "execute_result"
    }
   ],
   "source": [
    "# Средний чек\n",
    "\n",
    "sql_query = \"\"\"\n",
    "SELECT AVG(total_price) AS avg_price\n",
    "FROM \n",
    "(SELECT order_id, \n",
    "        SUM(price) AS total_price\n",
    "FROM order_items\n",
    "GROUP BY order_id) table_order\n",
    "\"\"\"\n",
    "\n",
    "# Выполняем запрос\n",
    "result = run_query(sql_query)\n",
    "\n",
    "# Смотрим результат\n",
    "result"
   ]
  },
  {
   "cell_type": "code",
   "execution_count": 24,
   "id": "8e1008e7-713e-47db-9689-b3f5af6d1162",
   "metadata": {},
   "outputs": [
    {
     "data": {
      "image/png": "[encoded data removed]",
      "text/plain": [
       "<Figure size 1200x600 with 1 Axes>"
      ]
     },
     "metadata": {},
     "output_type": "display_data"
    }
   ],
   "source": [
    "# Распределение заказов по датам и график\n",
    "\n",
    "sql_query = \"\"\"\n",
    "SELECT \n",
    "    strftime('%Y-%m', order_purchase_timestamp) AS year_month,\n",
    "    COUNT(order_id) AS count_orders    \n",
    "FROM orders\n",
    "GROUP BY year_month\n",
    "ORDER BY year_month\n",
    "\"\"\"\n",
    "\n",
    "# Выполняем запрос\n",
    "monthly_orders = run_query(sql_query)\n",
    "\n",
    "# Смотрим результат\n",
    "import matplotlib.pyplot as plt\n",
    "\n",
    "plt.figure(figsize=(12, 6))\n",
    "plt.plot(monthly_orders['year_month'], monthly_orders['count_orders'], marker='o')\n",
    "plt.xticks(rotation=45)\n",
    "plt.title('Динамика заказов по месяцам')\n",
    "plt.xlabel('Месяц')\n",
    "plt.ylabel('Количество заказов')\n",
    "plt.grid(True)\n",
    "plt.show()"
   ]
  },
  {
   "cell_type": "code",
   "execution_count": 26,
   "id": "35c127da-0535-461e-9368-ef0aac09e995",
   "metadata": {},
   "outputs": [
    {
     "data": {
      "text/html": [
       "<div>\n",
       "<style scoped>\n",
       "    .dataframe tbody tr th:only-of-type {\n",
       "        vertical-align: middle;\n",
       "    }\n",
       "\n",
       "    .dataframe tbody tr th {\n",
       "        vertical-align: top;\n",
       "    }\n",
       "\n",
       "    .dataframe thead th {\n",
       "        text-align: right;\n",
       "    }\n",
       "</style>\n",
       "<table border=\"1\" class=\"dataframe\">\n",
       "  <thead>\n",
       "    <tr style=\"text-align: right;\">\n",
       "      <th></th>\n",
       "      <th>product_category_name</th>\n",
       "      <th>items_sold</th>\n",
       "    </tr>\n",
       "  </thead>\n",
       "  <tbody>\n",
       "    <tr>\n",
       "      <th>0</th>\n",
       "      <td>cama_mesa_banho</td>\n",
       "      <td>11115</td>\n",
       "    </tr>\n",
       "    <tr>\n",
       "      <th>1</th>\n",
       "      <td>beleza_saude</td>\n",
       "      <td>9670</td>\n",
       "    </tr>\n",
       "    <tr>\n",
       "      <th>2</th>\n",
       "      <td>esporte_lazer</td>\n",
       "      <td>8641</td>\n",
       "    </tr>\n",
       "    <tr>\n",
       "      <th>3</th>\n",
       "      <td>moveis_decoracao</td>\n",
       "      <td>8334</td>\n",
       "    </tr>\n",
       "    <tr>\n",
       "      <th>4</th>\n",
       "      <td>informatica_acessorios</td>\n",
       "      <td>7827</td>\n",
       "    </tr>\n",
       "    <tr>\n",
       "      <th>5</th>\n",
       "      <td>utilidades_domesticas</td>\n",
       "      <td>6964</td>\n",
       "    </tr>\n",
       "    <tr>\n",
       "      <th>6</th>\n",
       "      <td>relogios_presentes</td>\n",
       "      <td>5991</td>\n",
       "    </tr>\n",
       "    <tr>\n",
       "      <th>7</th>\n",
       "      <td>telefonia</td>\n",
       "      <td>4545</td>\n",
       "    </tr>\n",
       "    <tr>\n",
       "      <th>8</th>\n",
       "      <td>ferramentas_jardim</td>\n",
       "      <td>4347</td>\n",
       "    </tr>\n",
       "    <tr>\n",
       "      <th>9</th>\n",
       "      <td>automotivo</td>\n",
       "      <td>4235</td>\n",
       "    </tr>\n",
       "  </tbody>\n",
       "</table>\n",
       "</div>"
      ],
      "text/plain": [
       "    product_category_name  items_sold\n",
       "0         cama_mesa_banho       11115\n",
       "1            beleza_saude        9670\n",
       "2           esporte_lazer        8641\n",
       "3        moveis_decoracao        8334\n",
       "4  informatica_acessorios        7827\n",
       "5   utilidades_domesticas        6964\n",
       "6      relogios_presentes        5991\n",
       "7               telefonia        4545\n",
       "8      ferramentas_jardim        4347\n",
       "9              automotivo        4235"
      ]
     },
     "execution_count": 26,
     "metadata": {},
     "output_type": "execute_result"
    }
   ],
   "source": [
    "# топ 10 самых популярных категории\n",
    "sql_query = \"\"\"\n",
    "SELECT \n",
    "    product_category_name,\n",
    "    COUNT(order_id) AS items_sold\n",
    "FROM order_items\n",
    "LEFT JOIN products USING (product_id)\n",
    "GROUP BY product_category_name\n",
    "ORDER BY items_sold DESC\n",
    "LIMIT 10\n",
    "\"\"\"\n",
    "\n",
    "# Выполняем запрос\n",
    "top_10_category = run_query(sql_query)\n",
    "top_10_category"
   ]
  },
  {
   "cell_type": "markdown",
   "id": "1878f1f9-1b2a-4cdb-9d25-698c98ce917e",
   "metadata": {},
   "source": [
    "### Распределение по географии"
   ]
  },
  {
   "cell_type": "code",
   "execution_count": 6,
   "id": "c8f77630-6d4d-4dec-841e-1332bae837f5",
   "metadata": {},
   "outputs": [
    {
     "data": {
      "text/html": [
       "<div>\n",
       "<style scoped>\n",
       "    .dataframe tbody tr th:only-of-type {\n",
       "        vertical-align: middle;\n",
       "    }\n",
       "\n",
       "    .dataframe tbody tr th {\n",
       "        vertical-align: top;\n",
       "    }\n",
       "\n",
       "    .dataframe thead th {\n",
       "        text-align: right;\n",
       "    }\n",
       "</style>\n",
       "<table border=\"1\" class=\"dataframe\">\n",
       "  <thead>\n",
       "    <tr style=\"text-align: right;\">\n",
       "      <th></th>\n",
       "      <th>customer_city</th>\n",
       "      <th>items_sold</th>\n",
       "    </tr>\n",
       "  </thead>\n",
       "  <tbody>\n",
       "    <tr>\n",
       "      <th>0</th>\n",
       "      <td>sao paulo</td>\n",
       "      <td>15540</td>\n",
       "    </tr>\n",
       "    <tr>\n",
       "      <th>1</th>\n",
       "      <td>rio de janeiro</td>\n",
       "      <td>6882</td>\n",
       "    </tr>\n",
       "    <tr>\n",
       "      <th>2</th>\n",
       "      <td>belo horizonte</td>\n",
       "      <td>2773</td>\n",
       "    </tr>\n",
       "    <tr>\n",
       "      <th>3</th>\n",
       "      <td>brasilia</td>\n",
       "      <td>2131</td>\n",
       "    </tr>\n",
       "    <tr>\n",
       "      <th>4</th>\n",
       "      <td>curitiba</td>\n",
       "      <td>1521</td>\n",
       "    </tr>\n",
       "    <tr>\n",
       "      <th>5</th>\n",
       "      <td>campinas</td>\n",
       "      <td>1444</td>\n",
       "    </tr>\n",
       "    <tr>\n",
       "      <th>6</th>\n",
       "      <td>porto alegre</td>\n",
       "      <td>1379</td>\n",
       "    </tr>\n",
       "    <tr>\n",
       "      <th>7</th>\n",
       "      <td>salvador</td>\n",
       "      <td>1245</td>\n",
       "    </tr>\n",
       "    <tr>\n",
       "      <th>8</th>\n",
       "      <td>guarulhos</td>\n",
       "      <td>1189</td>\n",
       "    </tr>\n",
       "    <tr>\n",
       "      <th>9</th>\n",
       "      <td>sao bernardo do campo</td>\n",
       "      <td>938</td>\n",
       "    </tr>\n",
       "  </tbody>\n",
       "</table>\n",
       "</div>"
      ],
      "text/plain": [
       "           customer_city  items_sold\n",
       "0              sao paulo       15540\n",
       "1         rio de janeiro        6882\n",
       "2         belo horizonte        2773\n",
       "3               brasilia        2131\n",
       "4               curitiba        1521\n",
       "5               campinas        1444\n",
       "6           porto alegre        1379\n",
       "7               salvador        1245\n",
       "8              guarulhos        1189\n",
       "9  sao bernardo do campo         938"
      ]
     },
     "execution_count": 6,
     "metadata": {},
     "output_type": "execute_result"
    }
   ],
   "source": [
    "# топ 10 популярных городов по количеству заказов\n",
    "sql_query = \"\"\"\n",
    "SELECT \n",
    "    customer_city,\n",
    "    COUNT(order_id) AS items_sold\n",
    "FROM orders\n",
    "LEFT JOIN customers USING (customer_id)\n",
    "GROUP BY customer_city\n",
    "ORDER BY items_sold DESC\n",
    "LIMIT 10\n",
    "\"\"\"\n",
    "\n",
    "# Выполняем запрос\n",
    "result = run_query(sql_query)\n",
    "result"
   ]
  },
  {
   "cell_type": "markdown",
   "id": "d62062d9-f5d7-4666-92ab-de45515ba983",
   "metadata": {},
   "source": [
    "## Шаг 2: Подготовка данных и RFM анализ"
   ]
  },
  {
   "cell_type": "code",
   "execution_count": 7,
   "id": "5f0a72ad-247a-46f8-9bc2-7b6e0fc767d9",
   "metadata": {},
   "outputs": [
    {
     "data": {
      "text/html": [
       "<div>\n",
       "<style scoped>\n",
       "    .dataframe tbody tr th:only-of-type {\n",
       "        vertical-align: middle;\n",
       "    }\n",
       "\n",
       "    .dataframe tbody tr th {\n",
       "        vertical-align: top;\n",
       "    }\n",
       "\n",
       "    .dataframe thead th {\n",
       "        text-align: right;\n",
       "    }\n",
       "</style>\n",
       "<table border=\"1\" class=\"dataframe\">\n",
       "  <thead>\n",
       "    <tr style=\"text-align: right;\">\n",
       "      <th></th>\n",
       "      <th>customer_id</th>\n",
       "      <th>last_order_date</th>\n",
       "      <th>total_orders</th>\n",
       "      <th>total_spent</th>\n",
       "    </tr>\n",
       "  </thead>\n",
       "  <tbody>\n",
       "    <tr>\n",
       "      <th>0</th>\n",
       "      <td>00012a2ce6f8dcda20d059ce98491703</td>\n",
       "      <td>2017-11-14 16:08:26</td>\n",
       "      <td>1</td>\n",
       "      <td>89.80</td>\n",
       "    </tr>\n",
       "    <tr>\n",
       "      <th>1</th>\n",
       "      <td>000161a058600d5901f007fab4c27140</td>\n",
       "      <td>2017-07-16 09:40:32</td>\n",
       "      <td>1</td>\n",
       "      <td>54.90</td>\n",
       "    </tr>\n",
       "    <tr>\n",
       "      <th>2</th>\n",
       "      <td>0001fd6190edaaf884bcaf3d49edf079</td>\n",
       "      <td>2017-02-28 11:06:43</td>\n",
       "      <td>1</td>\n",
       "      <td>179.99</td>\n",
       "    </tr>\n",
       "    <tr>\n",
       "      <th>3</th>\n",
       "      <td>0002414f95344307404f0ace7a26f1d5</td>\n",
       "      <td>2017-08-16 13:09:20</td>\n",
       "      <td>1</td>\n",
       "      <td>149.90</td>\n",
       "    </tr>\n",
       "    <tr>\n",
       "      <th>4</th>\n",
       "      <td>000379cdec625522490c315e70c7a9fb</td>\n",
       "      <td>2018-04-02 13:42:17</td>\n",
       "      <td>1</td>\n",
       "      <td>93.00</td>\n",
       "    </tr>\n",
       "    <tr>\n",
       "      <th>...</th>\n",
       "      <td>...</td>\n",
       "      <td>...</td>\n",
       "      <td>...</td>\n",
       "      <td>...</td>\n",
       "    </tr>\n",
       "    <tr>\n",
       "      <th>99436</th>\n",
       "      <td>fffecc9f79fd8c764f843e9951b11341</td>\n",
       "      <td>2018-03-29 16:59:26</td>\n",
       "      <td>1</td>\n",
       "      <td>54.90</td>\n",
       "    </tr>\n",
       "    <tr>\n",
       "      <th>99437</th>\n",
       "      <td>fffeda5b6d849fbd39689bb92087f431</td>\n",
       "      <td>2018-05-22 13:36:02</td>\n",
       "      <td>1</td>\n",
       "      <td>47.90</td>\n",
       "    </tr>\n",
       "    <tr>\n",
       "      <th>99438</th>\n",
       "      <td>ffff42319e9b2d713724ae527742af25</td>\n",
       "      <td>2018-06-13 16:57:05</td>\n",
       "      <td>1</td>\n",
       "      <td>199.90</td>\n",
       "    </tr>\n",
       "    <tr>\n",
       "      <th>99439</th>\n",
       "      <td>ffffa3172527f765de70084a7e53aae8</td>\n",
       "      <td>2017-09-02 11:53:32</td>\n",
       "      <td>2</td>\n",
       "      <td>21.80</td>\n",
       "    </tr>\n",
       "    <tr>\n",
       "      <th>99440</th>\n",
       "      <td>ffffe8b65bbe3087b653a978c870db99</td>\n",
       "      <td>2017-09-29 14:07:03</td>\n",
       "      <td>1</td>\n",
       "      <td>NaN</td>\n",
       "    </tr>\n",
       "  </tbody>\n",
       "</table>\n",
       "<p>99441 rows × 4 columns</p>\n",
       "</div>"
      ],
      "text/plain": [
       "                            customer_id      last_order_date  total_orders  \\\n",
       "0      00012a2ce6f8dcda20d059ce98491703  2017-11-14 16:08:26             1   \n",
       "1      000161a058600d5901f007fab4c27140  2017-07-16 09:40:32             1   \n",
       "2      0001fd6190edaaf884bcaf3d49edf079  2017-02-28 11:06:43             1   \n",
       "3      0002414f95344307404f0ace7a26f1d5  2017-08-16 13:09:20             1   \n",
       "4      000379cdec625522490c315e70c7a9fb  2018-04-02 13:42:17             1   \n",
       "...                                 ...                  ...           ...   \n",
       "99436  fffecc9f79fd8c764f843e9951b11341  2018-03-29 16:59:26             1   \n",
       "99437  fffeda5b6d849fbd39689bb92087f431  2018-05-22 13:36:02             1   \n",
       "99438  ffff42319e9b2d713724ae527742af25  2018-06-13 16:57:05             1   \n",
       "99439  ffffa3172527f765de70084a7e53aae8  2017-09-02 11:53:32             2   \n",
       "99440  ffffe8b65bbe3087b653a978c870db99  2017-09-29 14:07:03             1   \n",
       "\n",
       "       total_spent  \n",
       "0            89.80  \n",
       "1            54.90  \n",
       "2           179.99  \n",
       "3           149.90  \n",
       "4            93.00  \n",
       "...            ...  \n",
       "99436        54.90  \n",
       "99437        47.90  \n",
       "99438       199.90  \n",
       "99439        21.80  \n",
       "99440          NaN  \n",
       "\n",
       "[99441 rows x 4 columns]"
      ]
     },
     "execution_count": 7,
     "metadata": {},
     "output_type": "execute_result"
    }
   ],
   "source": [
    "# для каждого пользователя определяем дату его последнего заказа, количество заказов, а также сумму каждого заказа\n",
    "\n",
    "sql_query = \"\"\"\n",
    "SELECT \n",
    "    o.customer_id,\n",
    "    MAX(o.order_purchase_timestamp) AS last_order_date,\n",
    "    COUNT(o.order_id) AS total_orders,\n",
    "    SUM(oi.price) AS total_spent\n",
    "FROM orders AS o\n",
    "LEFT JOIN order_items AS oi ON o.order_id = oi.order_id\n",
    "GROUP BY o.customer_id\n",
    "\"\"\"\n",
    "\n",
    "# Выполняем запрос\n",
    "rfm_table = run_query(sql_query)\n",
    "rfm_table"
   ]
  },
  {
   "cell_type": "code",
   "execution_count": 8,
   "id": "0248e314-bbad-4212-af6e-dc43b176b4f9",
   "metadata": {},
   "outputs": [],
   "source": [
    "# переведём колонку с датами в нужный формат для дальнейшей работы\n",
    "rfm_table['last_order_date'] = pd.to_datetime(rfm_table['last_order_date'])"
   ]
  },
  {
   "cell_type": "code",
   "execution_count": 9,
   "id": "b8f5f597-afb8-4f7b-a547-ba80956347e4",
   "metadata": {},
   "outputs": [],
   "source": [
    "# определим дату от которой будет считать количество дней с последнего заказа\n",
    "\n",
    "max_date = rfm_table['last_order_date'].max()\n",
    "rfm_table['recency'] = (max_date - rfm_table['last_order_date']).dt.days"
   ]
  },
  {
   "cell_type": "code",
   "execution_count": 11,
   "id": "e2c3bfb0-1767-4138-a16c-2567bbb32be0",
   "metadata": {},
   "outputs": [
    {
     "data": {
      "text/html": [
       "<div>\n",
       "<style scoped>\n",
       "    .dataframe tbody tr th:only-of-type {\n",
       "        vertical-align: middle;\n",
       "    }\n",
       "\n",
       "    .dataframe tbody tr th {\n",
       "        vertical-align: top;\n",
       "    }\n",
       "\n",
       "    .dataframe thead th {\n",
       "        text-align: right;\n",
       "    }\n",
       "</style>\n",
       "<table border=\"1\" class=\"dataframe\">\n",
       "  <thead>\n",
       "    <tr style=\"text-align: right;\">\n",
       "      <th></th>\n",
       "      <th>customer_id</th>\n",
       "      <th>recency</th>\n",
       "      <th>frequency</th>\n",
       "      <th>monetary</th>\n",
       "    </tr>\n",
       "  </thead>\n",
       "  <tbody>\n",
       "    <tr>\n",
       "      <th>0</th>\n",
       "      <td>00012a2ce6f8dcda20d059ce98491703</td>\n",
       "      <td>337</td>\n",
       "      <td>1</td>\n",
       "      <td>89.80</td>\n",
       "    </tr>\n",
       "    <tr>\n",
       "      <th>1</th>\n",
       "      <td>000161a058600d5901f007fab4c27140</td>\n",
       "      <td>458</td>\n",
       "      <td>1</td>\n",
       "      <td>54.90</td>\n",
       "    </tr>\n",
       "    <tr>\n",
       "      <th>2</th>\n",
       "      <td>0001fd6190edaaf884bcaf3d49edf079</td>\n",
       "      <td>596</td>\n",
       "      <td>1</td>\n",
       "      <td>179.99</td>\n",
       "    </tr>\n",
       "    <tr>\n",
       "      <th>3</th>\n",
       "      <td>0002414f95344307404f0ace7a26f1d5</td>\n",
       "      <td>427</td>\n",
       "      <td>1</td>\n",
       "      <td>149.90</td>\n",
       "    </tr>\n",
       "    <tr>\n",
       "      <th>4</th>\n",
       "      <td>000379cdec625522490c315e70c7a9fb</td>\n",
       "      <td>198</td>\n",
       "      <td>1</td>\n",
       "      <td>93.00</td>\n",
       "    </tr>\n",
       "  </tbody>\n",
       "</table>\n",
       "</div>"
      ],
      "text/plain": [
       "                        customer_id  recency  frequency  monetary\n",
       "0  00012a2ce6f8dcda20d059ce98491703      337          1     89.80\n",
       "1  000161a058600d5901f007fab4c27140      458          1     54.90\n",
       "2  0001fd6190edaaf884bcaf3d49edf079      596          1    179.99\n",
       "3  0002414f95344307404f0ace7a26f1d5      427          1    149.90\n",
       "4  000379cdec625522490c315e70c7a9fb      198          1     93.00"
      ]
     },
     "execution_count": 11,
     "metadata": {},
     "output_type": "execute_result"
    }
   ],
   "source": [
    "# оставим необходимые нам колонки, а также переименуем колонки для дальнейшего, удобного анализа\n",
    "\n",
    "rfm_ready = rfm_table[['customer_id', 'recency', 'total_orders', 'total_spent']] \\\n",
    "            .rename(columns={'total_orders' : 'frequency', 'total_spent' : 'monetary'})\n",
    "\n",
    "rfm_ready.head()"
   ]
  },
  {
   "cell_type": "code",
   "execution_count": 12,
   "id": "325ce625-c988-4c17-9121-daade7f29ad7",
   "metadata": {},
   "outputs": [
    {
     "name": "stdout",
     "output_type": "stream",
     "text": [
      "      recency  frequency  monetary\n",
      "0.25    166.0        1.0      45.9\n",
      "0.50    271.0        1.0      86.9\n",
      "0.75    400.0        1.0     149.9\n"
     ]
    }
   ],
   "source": [
    "# Оставляем только нужные числовые колонки\n",
    "rfm_numeric = rfm_ready[['recency', 'frequency', 'monetary']]\n",
    "\n",
    "# Считаем квантили только по числовым признакам\n",
    "quantiles = rfm_numeric.quantile(q=[0.25, 0.5, 0.75])\n",
    "print(quantiles)"
   ]
  },
  {
   "cell_type": "markdown",
   "id": "fc8d7f75-487e-4d80-b185-e70cf4f7a1e1",
   "metadata": {},
   "source": [
    "### Функция для распределния пользователей по сегментам"
   ]
  },
  {
   "cell_type": "code",
   "execution_count": 13,
   "id": "61ac77e5-15cf-4e24-9b49-66bbd2031428",
   "metadata": {},
   "outputs": [],
   "source": [
    "# Для Recency (меньше дней = лучше)\n",
    "def r_score(x):\n",
    "    if x <= quantiles['recency'][0.25]:\n",
    "        return 4\n",
    "    elif x <= quantiles['recency'][0.5]:\n",
    "        return 3\n",
    "    elif x <= quantiles['recency'][0.75]:\n",
    "        return 2\n",
    "    else:\n",
    "        return 1\n",
    "\n",
    "# Для Frequency (больше покупок = лучше)\n",
    "def f_score(x):\n",
    "    if x <= quantiles['frequency'][0.25]:\n",
    "        return 1\n",
    "    elif x <= quantiles['frequency'][0.5]:\n",
    "        return 2\n",
    "    elif x <= quantiles['frequency'][0.75]:\n",
    "        return 3\n",
    "    else:\n",
    "        return 4\n",
    "\n",
    "# Для Monetary (больше денег = лучше)\n",
    "def m_score(x):\n",
    "    if x <= quantiles['monetary'][0.25]:\n",
    "        return 1\n",
    "    elif x <= quantiles['monetary'][0.5]:\n",
    "        return 2\n",
    "    elif x <= quantiles['monetary'][0.75]:\n",
    "        return 3\n",
    "    else:\n",
    "        return 4"
   ]
  },
  {
   "cell_type": "code",
   "execution_count": 14,
   "id": "27fd1bf9-bc17-4a33-a03c-4cde516f7ecb",
   "metadata": {},
   "outputs": [],
   "source": [
    "# Вызов функции\n",
    "\n",
    "rfm_ready['R'] = rfm_ready['recency'].apply(r_score)\n",
    "rfm_ready['F'] = rfm_ready['frequency'].apply(f_score)\n",
    "rfm_ready['M'] = rfm_ready['monetary'].apply(m_score)"
   ]
  },
  {
   "cell_type": "code",
   "execution_count": 15,
   "id": "f0cc0f74-aea5-44f4-a911-f0f925f26d0a",
   "metadata": {},
   "outputs": [
    {
     "data": {
      "text/html": [
       "<div>\n",
       "<style scoped>\n",
       "    .dataframe tbody tr th:only-of-type {\n",
       "        vertical-align: middle;\n",
       "    }\n",
       "\n",
       "    .dataframe tbody tr th {\n",
       "        vertical-align: top;\n",
       "    }\n",
       "\n",
       "    .dataframe thead th {\n",
       "        text-align: right;\n",
       "    }\n",
       "</style>\n",
       "<table border=\"1\" class=\"dataframe\">\n",
       "  <thead>\n",
       "    <tr style=\"text-align: right;\">\n",
       "      <th></th>\n",
       "      <th>customer_id</th>\n",
       "      <th>recency</th>\n",
       "      <th>frequency</th>\n",
       "      <th>monetary</th>\n",
       "      <th>R</th>\n",
       "      <th>F</th>\n",
       "      <th>M</th>\n",
       "      <th>RFM_Score</th>\n",
       "    </tr>\n",
       "  </thead>\n",
       "  <tbody>\n",
       "    <tr>\n",
       "      <th>0</th>\n",
       "      <td>00012a2ce6f8dcda20d059ce98491703</td>\n",
       "      <td>337</td>\n",
       "      <td>1</td>\n",
       "      <td>89.80</td>\n",
       "      <td>2</td>\n",
       "      <td>1</td>\n",
       "      <td>3</td>\n",
       "      <td>213</td>\n",
       "    </tr>\n",
       "    <tr>\n",
       "      <th>1</th>\n",
       "      <td>000161a058600d5901f007fab4c27140</td>\n",
       "      <td>458</td>\n",
       "      <td>1</td>\n",
       "      <td>54.90</td>\n",
       "      <td>1</td>\n",
       "      <td>1</td>\n",
       "      <td>2</td>\n",
       "      <td>112</td>\n",
       "    </tr>\n",
       "    <tr>\n",
       "      <th>2</th>\n",
       "      <td>0001fd6190edaaf884bcaf3d49edf079</td>\n",
       "      <td>596</td>\n",
       "      <td>1</td>\n",
       "      <td>179.99</td>\n",
       "      <td>1</td>\n",
       "      <td>1</td>\n",
       "      <td>4</td>\n",
       "      <td>114</td>\n",
       "    </tr>\n",
       "    <tr>\n",
       "      <th>3</th>\n",
       "      <td>0002414f95344307404f0ace7a26f1d5</td>\n",
       "      <td>427</td>\n",
       "      <td>1</td>\n",
       "      <td>149.90</td>\n",
       "      <td>1</td>\n",
       "      <td>1</td>\n",
       "      <td>3</td>\n",
       "      <td>113</td>\n",
       "    </tr>\n",
       "    <tr>\n",
       "      <th>4</th>\n",
       "      <td>000379cdec625522490c315e70c7a9fb</td>\n",
       "      <td>198</td>\n",
       "      <td>1</td>\n",
       "      <td>93.00</td>\n",
       "      <td>3</td>\n",
       "      <td>1</td>\n",
       "      <td>3</td>\n",
       "      <td>313</td>\n",
       "    </tr>\n",
       "  </tbody>\n",
       "</table>\n",
       "</div>"
      ],
      "text/plain": [
       "                        customer_id  recency  frequency  monetary  R  F  M  \\\n",
       "0  00012a2ce6f8dcda20d059ce98491703      337          1     89.80  2  1  3   \n",
       "1  000161a058600d5901f007fab4c27140      458          1     54.90  1  1  2   \n",
       "2  0001fd6190edaaf884bcaf3d49edf079      596          1    179.99  1  1  4   \n",
       "3  0002414f95344307404f0ace7a26f1d5      427          1    149.90  1  1  3   \n",
       "4  000379cdec625522490c315e70c7a9fb      198          1     93.00  3  1  3   \n",
       "\n",
       "  RFM_Score  \n",
       "0       213  \n",
       "1       112  \n",
       "2       114  \n",
       "3       113  \n",
       "4       313  "
      ]
     },
     "execution_count": 15,
     "metadata": {},
     "output_type": "execute_result"
    }
   ],
   "source": [
    "# Соединяем три цифры в одну последовательность\n",
    "rfm_ready['RFM_Score'] = rfm_ready['R'].astype(str) + rfm_ready['F'].astype(str) + rfm_ready['M'].astype(str)\n",
    "\n",
    "rfm_ready.head()"
   ]
  },
  {
   "cell_type": "code",
   "execution_count": 16,
   "id": "45030d2a-f6fe-4da5-ae74-ab3df0bedfbd",
   "metadata": {},
   "outputs": [
    {
     "data": {
      "image/png": "[encoded data removed]",
      "text/plain": [
       "<Figure size 1400x600 with 1 Axes>"
      ]
     },
     "metadata": {},
     "output_type": "display_data"
    }
   ],
   "source": [
    "# Считаем количество клиентов в каждой группе\n",
    "rfm_ready['RFM_Score'].value_counts().sort_index().plot(kind='bar', figsize=(14,6))\n",
    "\n",
    "# Строим график распределения по RFM сегментам\n",
    "plt.title('Распределение клиентов по RFM-профилям')\n",
    "plt.xlabel('RFM Score')\n",
    "plt.ylabel('Количество клиентов')\n",
    "plt.grid(True)\n",
    "plt.show()\n"
   ]
  },
  {
   "cell_type": "code",
   "execution_count": 17,
   "id": "d28c9c1b-50c3-49f9-92b0-cb81cfcf4a3f",
   "metadata": {},
   "outputs": [
    {
     "data": {
      "image/png": "[encoded data removed]",
      "text/plain": [
       "<Figure size 1200x800 with 1 Axes>"
      ]
     },
     "metadata": {},
     "output_type": "display_data"
    }
   ],
   "source": [
    "# Построим график Recency vs Frequency\n",
    "plt.figure(figsize=(12, 8))\n",
    "plt.scatter(rfm_ready['recency'], rfm_ready['frequency'], alpha=0.5)\n",
    "\n",
    "# Оси\n",
    "plt.title('Карта клиентов: Recency vs Frequency')\n",
    "plt.xlabel('Recency (меньше = лучше)')\n",
    "plt.ylabel('Frequency (больше = лучше)')\n",
    "plt.grid(True)\n",
    "plt.show()"
   ]
  },
  {
   "cell_type": "markdown",
   "id": "ad90c899-a1ac-49f5-88c0-aacfa979d248",
   "metadata": {},
   "source": [
    "### Сегментация клиентов по RFM"
   ]
  },
  {
   "cell_type": "code",
   "execution_count": 18,
   "id": "13f1c6bc-452f-4cb5-a3a9-d5746b53916d",
   "metadata": {},
   "outputs": [
    {
     "data": {
      "text/html": [
       "<div>\n",
       "<style scoped>\n",
       "    .dataframe tbody tr th:only-of-type {\n",
       "        vertical-align: middle;\n",
       "    }\n",
       "\n",
       "    .dataframe tbody tr th {\n",
       "        vertical-align: top;\n",
       "    }\n",
       "\n",
       "    .dataframe thead th {\n",
       "        text-align: right;\n",
       "    }\n",
       "</style>\n",
       "<table border=\"1\" class=\"dataframe\">\n",
       "  <thead>\n",
       "    <tr style=\"text-align: right;\">\n",
       "      <th></th>\n",
       "      <th>customer_id</th>\n",
       "      <th>R</th>\n",
       "      <th>F</th>\n",
       "      <th>M</th>\n",
       "      <th>RFM_Score</th>\n",
       "      <th>segment</th>\n",
       "    </tr>\n",
       "  </thead>\n",
       "  <tbody>\n",
       "    <tr>\n",
       "      <th>0</th>\n",
       "      <td>00012a2ce6f8dcda20d059ce98491703</td>\n",
       "      <td>2</td>\n",
       "      <td>1</td>\n",
       "      <td>3</td>\n",
       "      <td>213</td>\n",
       "      <td>At Risk</td>\n",
       "    </tr>\n",
       "    <tr>\n",
       "      <th>1</th>\n",
       "      <td>000161a058600d5901f007fab4c27140</td>\n",
       "      <td>1</td>\n",
       "      <td>1</td>\n",
       "      <td>2</td>\n",
       "      <td>112</td>\n",
       "      <td>Hibernating</td>\n",
       "    </tr>\n",
       "    <tr>\n",
       "      <th>2</th>\n",
       "      <td>0001fd6190edaaf884bcaf3d49edf079</td>\n",
       "      <td>1</td>\n",
       "      <td>1</td>\n",
       "      <td>4</td>\n",
       "      <td>114</td>\n",
       "      <td>Hibernating</td>\n",
       "    </tr>\n",
       "    <tr>\n",
       "      <th>3</th>\n",
       "      <td>0002414f95344307404f0ace7a26f1d5</td>\n",
       "      <td>1</td>\n",
       "      <td>1</td>\n",
       "      <td>3</td>\n",
       "      <td>113</td>\n",
       "      <td>Hibernating</td>\n",
       "    </tr>\n",
       "    <tr>\n",
       "      <th>4</th>\n",
       "      <td>000379cdec625522490c315e70c7a9fb</td>\n",
       "      <td>3</td>\n",
       "      <td>1</td>\n",
       "      <td>3</td>\n",
       "      <td>313</td>\n",
       "      <td>Hibernating</td>\n",
       "    </tr>\n",
       "  </tbody>\n",
       "</table>\n",
       "</div>"
      ],
      "text/plain": [
       "                        customer_id  R  F  M RFM_Score      segment\n",
       "0  00012a2ce6f8dcda20d059ce98491703  2  1  3       213      At Risk\n",
       "1  000161a058600d5901f007fab4c27140  1  1  2       112  Hibernating\n",
       "2  0001fd6190edaaf884bcaf3d49edf079  1  1  4       114  Hibernating\n",
       "3  0002414f95344307404f0ace7a26f1d5  1  1  3       113  Hibernating\n",
       "4  000379cdec625522490c315e70c7a9fb  3  1  3       313  Hibernating"
      ]
     },
     "execution_count": 18,
     "metadata": {},
     "output_type": "execute_result"
    }
   ],
   "source": [
    "# Дополнительно просегментируем пользователей на группы\n",
    "\n",
    "def segment_customer(row):\n",
    "    if row['R'] == 4 and row['F'] == 4:\n",
    "        return 'Champion'\n",
    "    elif row['R'] >= 3 and row['F'] >= 3:\n",
    "        return 'Loyal Customer'\n",
    "    elif row['R'] >= 3 and row['F'] == 2:\n",
    "        return 'Potential Loyalist'\n",
    "    elif row['R'] == 2:\n",
    "        return 'At Risk'\n",
    "    else:\n",
    "        return 'Hibernating'\n",
    "\n",
    "# Применяем функцию\n",
    "rfm_ready['segment'] = rfm_ready.apply(segment_customer, axis=1)\n",
    "\n",
    "# Смотрим примеры\n",
    "rfm_ready[['customer_id', 'R', 'F', 'M', 'RFM_Score', 'segment']].head()"
   ]
  },
  {
   "cell_type": "code",
   "execution_count": 32,
   "id": "d4233f8c-1c15-4131-9d15-af8d3d91bf99",
   "metadata": {},
   "outputs": [
    {
     "data": {
      "text/plain": [
       "segment\n",
       "Hibernating       0.699571\n",
       "At Risk           0.250983\n",
       "Loyal Customer    0.024738\n",
       "Champion          0.024708\n",
       "Name: proportion, dtype: float64"
      ]
     },
     "execution_count": 32,
     "metadata": {},
     "output_type": "execute_result"
    }
   ],
   "source": [
    "# процентное распределение по сегментам\n",
    "rfm_ready.segment.value_counts(normalize=True)"
   ]
  },
  {
   "cell_type": "code",
   "execution_count": 34,
   "id": "666d0ad2-e71d-4dc8-9b28-efc5871fcb97",
   "metadata": {},
   "outputs": [
    {
     "data": {
      "text/html": [
       "<div>\n",
       "<style scoped>\n",
       "    .dataframe tbody tr th:only-of-type {\n",
       "        vertical-align: middle;\n",
       "    }\n",
       "\n",
       "    .dataframe tbody tr th {\n",
       "        vertical-align: top;\n",
       "    }\n",
       "\n",
       "    .dataframe thead th {\n",
       "        text-align: right;\n",
       "    }\n",
       "</style>\n",
       "<table border=\"1\" class=\"dataframe\">\n",
       "  <thead>\n",
       "    <tr style=\"text-align: right;\">\n",
       "      <th></th>\n",
       "      <th>segment</th>\n",
       "      <th>monetary</th>\n",
       "    </tr>\n",
       "  </thead>\n",
       "  <tbody>\n",
       "    <tr>\n",
       "      <th>0</th>\n",
       "      <td>At Risk</td>\n",
       "      <td>3382450.25</td>\n",
       "    </tr>\n",
       "    <tr>\n",
       "      <th>1</th>\n",
       "      <td>Champion</td>\n",
       "      <td>529018.19</td>\n",
       "    </tr>\n",
       "    <tr>\n",
       "      <th>2</th>\n",
       "      <td>Hibernating</td>\n",
       "      <td>9200401.24</td>\n",
       "    </tr>\n",
       "    <tr>\n",
       "      <th>3</th>\n",
       "      <td>Loyal Customer</td>\n",
       "      <td>479774.02</td>\n",
       "    </tr>\n",
       "  </tbody>\n",
       "</table>\n",
       "</div>"
      ],
      "text/plain": [
       "          segment    monetary\n",
       "0         At Risk  3382450.25\n",
       "1        Champion   529018.19\n",
       "2     Hibernating  9200401.24\n",
       "3  Loyal Customer   479774.02"
      ]
     },
     "execution_count": 34,
     "metadata": {},
     "output_type": "execute_result"
    }
   ],
   "source": [
    "rfm_ready.groupby('segment', as_index=False)['monetary'].sum()"
   ]
  },
  {
   "cell_type": "code",
   "execution_count": 19,
   "id": "0949d16d-e0da-4890-8a9d-730753bdb348",
   "metadata": {},
   "outputs": [
    {
     "data": {
      "image/png": "[encoded data removed]",
      "text/plain": [
       "<Figure size 1000x600 with 1 Axes>"
      ]
     },
     "metadata": {},
     "output_type": "display_data"
    }
   ],
   "source": [
    "plt.figure(figsize=(10, 6))\n",
    "rfm_ready['segment'].value_counts().plot(kind='bar')\n",
    "plt.title('Распределение клиентов по сегментам')\n",
    "plt.xlabel('Сегмент')\n",
    "plt.ylabel('Количество клиентов')\n",
    "plt.grid(True)\n",
    "plt.show()"
   ]
  },
  {
   "cell_type": "markdown",
   "id": "36c290ee-fbc7-4074-86ea-02c1f4b3321c",
   "metadata": {},
   "source": [
    "## Итоги: \n",
    "\n",
    "Почти 70% клиентов находятся в сегменте Hibernating (давно не покупали), но при этом они всё ещё составляют наибольшую часть выручки.\n",
    "\n",
    "Сегмент At Risk — 25% клиентов, важная зона для удержания.\n",
    "\n",
    "Самые ценные клиенты по поведению — Champions, их всего 2.5%, но они приносят значимый вклад (~530 тыс).\n",
    "\n",
    "Loyal Customers также 2.5%, и это стабильный сегмент, который можно развивать через персонализированные предложения."
   ]
  }
 ],
 "metadata": {
  "kernelspec": {
   "display_name": "Python 3 (ipykernel)",
   "language": "python",
   "name": "python3"
  },
  "language_info": {
   "codemirror_mode": {
    "name": "ipython",
    "version": 3
   },
   "file_extension": ".py",
   "mimetype": "text/x-python",
   "name": "python",
   "nbconvert_exporter": "python",
   "pygments_lexer": "ipython3",
   "version": "3.11.9"
  }
 },
 "nbformat": 4,
 "nbformat_minor": 5
}
